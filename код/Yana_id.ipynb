{
 "cells": [
  {
   "cell_type": "markdown",
   "id": "931c9e65",
   "metadata": {},
   "source": [
    "Логика:\n",
    "Первый блок - инициализация и заполнение списка вершин и связей"
   ]
  },
  {
   "cell_type": "code",
   "execution_count": 2,
   "id": "4918c16b",
   "metadata": {},
   "outputs": [
    {
     "name": "stdout",
     "output_type": "stream",
     "text": [
      "Введите количества вершин: 9\n",
      "Введите смежные для 1 вершины:2 5\n",
      "Введите смежные для 2 вершины:1 5 4 3\n",
      "Введите смежные для 3 вершины:2 4 6 8\n",
      "Введите смежные для 4 вершины:2 3 5 6 7\n",
      "Введите смежные для 5 вершины:1 2 4 7\n",
      "Введите смежные для 6 вершины:3 4 7 8 9\n",
      "Введите смежные для 7 вершины:4 5 6 9\n",
      "Введите смежные для 8 вершины:3 6 9\n",
      "Введите смежные для 9 вершины:8 6 7\n"
     ]
    }
   ],
   "source": [
    "amount_v = int(input(\"Введите количества вершин: \"))\n",
    "A = []\n",
    "i = 0\n",
    "while i < amount_v:\n",
    "    m_smej = list(map(int, input(f\"Введите смежные для {i + 1} вершины:\").split(' ')))\n",
    "    A.append(m_smej)\n",
    "    i += 1"
   ]
  },
  {
   "cell_type": "markdown",
   "id": "29d6be88",
   "metadata": {},
   "source": [
    "Возьмем за основу тот факт, что любой граф можно расскрасить с использованием 4 цветов.\n",
    "Создадим список, который будет хранить в себе спим=ски с вершинами, принадлежащими опреденленному цвету.\n",
    "Также создадим список использованых вершин, счетчик цветов и флаг, для проверки связей."
   ]
  },
  {
   "cell_type": "code",
   "execution_count": 5,
   "id": "df75b912",
   "metadata": {},
   "outputs": [],
   "source": [
    "first = []\n",
    "second= []\n",
    "third = []\n",
    "fourth = []\n",
    "used = []\n",
    "color = [first, second, third, fourth]\n",
    "ch_color = 0\n",
    "flag = 0"
   ]
  },
  {
   "cell_type": "markdown",
   "id": "c39940ff",
   "metadata": {},
   "source": [
    "Второй блок - вычислительный.\n",
    "Первый цикл менят \"цвет\", с которым мы работаем, второй - проходится повершинам, а третий - по связям вершин"
   ]
  },
  {
   "cell_type": "markdown",
   "id": "f493fdca",
   "metadata": {},
   "source": [
    "Вначали мы проверяем вершины еще нет в \"цвете\" или не была ли она уже использована.Если нет, то дальше рассматриваем связи."
   ]
  },
  {
   "cell_type": "markdown",
   "id": "c4d54dcd",
   "metadata": {},
   "source": [
    "Если вершина не имеет связь с вершиной, которая уже в \"цвете\" - устанавливаем флаг в единицу, в противном случае в ноль и завершаем проверку смежности"
   ]
  },
  {
   "cell_type": "markdown",
   "id": "7eb4e2e5",
   "metadata": {},
   "source": [
    "После проверки смежности, в зависимости от значения флага, добавляем вершину в \"цвет\" и список использованных."
   ]
  },
  {
   "cell_type": "code",
   "execution_count": 18,
   "id": "b02fa867",
   "metadata": {},
   "outputs": [],
   "source": [
    "for ch_color in range(len(color)):\n",
    "  for i, v in enumerate(A):\n",
    "    flag = 0\n",
    "    if i + 1 not in used and i + 1 not in color[ch_color]:\n",
    "      for j in A[i]:\n",
    "        if j not in color[ch_color]:\n",
    "          flag = 1\n",
    "        else:\n",
    "          flag = 0\n",
    "          break\n",
    "      if flag == 1:\n",
    "        color[ch_color].append(i + 1)\n",
    "        used.append(i + 1) \n",
    "  if ch_color < 4:\n",
    "    ch_color += 1"
   ]
  },
  {
   "cell_type": "markdown",
   "id": "acda2609",
   "metadata": {},
   "source": [
    "Завершающий блок - вывод результата"
   ]
  },
  {
   "cell_type": "code",
   "execution_count": 19,
   "id": "c4fcafbb",
   "metadata": {},
   "outputs": [
    {
     "name": "stdout",
     "output_type": "stream",
     "text": [
      "Вершины входящие в 1-й цвет: [1, 3, 7]\n",
      "Вершины входящие во 2-й цвет: [2, 6]\n",
      "Вершины входящие в 3-й цвет: [4, 8]\n",
      "Вершины входящие в 4-й цвет: [5, 9]\n"
     ]
    }
   ],
   "source": [
    "print(f\"Вершины входящие в 1-й цвет: {color[0]}\")\n",
    "print(f\"Вершины входящие во 2-й цвет: {color[1]}\")\n",
    "print(f\"Вершины входящие в 3-й цвет: {color[2]}\")\n",
    "print(f\"Вершины входящие в 4-й цвет: {color[3]}\")"
   ]
  }
 ],
 "metadata": {
  "kernelspec": {
   "display_name": "Python 3 (ipykernel)",
   "language": "python",
   "name": "python3"
  },
  "language_info": {
   "codemirror_mode": {
    "name": "ipython",
    "version": 3
   },
   "file_extension": ".py",
   "mimetype": "text/x-python",
   "name": "python",
   "nbconvert_exporter": "python",
   "pygments_lexer": "ipython3",
   "version": "3.9.13"
  }
 },
 "nbformat": 4,
 "nbformat_minor": 5
}
