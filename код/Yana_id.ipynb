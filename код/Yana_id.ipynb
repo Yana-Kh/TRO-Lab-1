{
 "cells": [
  {
   "cell_type": "markdown",
   "id": "186fcb83",
   "metadata": {},
   "source": [
    "# Программа, выполняющая алгоритм расскраски графов"
   ]
  },
  {
   "cell_type": "markdown",
   "id": "92cd31fa",
   "metadata": {},
   "source": [
    "Задача: Написать программу, осуществляющую раскраску заданного пользователем графа"
   ]
  },
  {
   "cell_type": "markdown",
   "id": "b7f4ad57",
   "metadata": {},
   "source": [
    "В качестве теоретической части приведем хроматические многочлены для некоторых графов."
   ]
  },
  {
   "cell_type": "markdown",
   "id": "345a1cb3",
   "metadata": {},
   "source": [
    "Треугольный $K_3$: $t(t-1)(t-2)$"
   ]
  },
  {
   "cell_type": "markdown",
   "id": "a30e9464",
   "metadata": {},
   "source": [
    "Полный граф $K_n$: $t(t-1)(t-2)...(t-(n-1))$"
   ]
  },
  {
   "cell_type": "markdown",
   "id": "ee936702",
   "metadata": {},
   "source": [
    "Древо с $n$ ребрами: $t(t-1)^n$"
   ]
  },
  {
   "cell_type": "markdown",
   "id": "c09ffaf1",
   "metadata": {},
   "source": [
    "Цикл $C_n$: $t(t-1)^n + (-1)^n(t-1)$"
   ]
  },
  {
   "cell_type": "markdown",
   "id": "9d6d2643",
   "metadata": {},
   "source": [
    "Граф Петерсена: $t(t-1)(t-2)(t^7 - 12t^6 + 67t^5 - 230t^4 + 529t^3 - 814t^2 + 755t - 352)$"
   ]
  },
  {
   "cell_type": "markdown",
   "id": "e70c9650",
   "metadata": {},
   "source": [
    "Логика: Первый блок - инициализация и заполнение списка вершин и связей. На этом этапе, после запуска кода, пользователь вводит колличество вершин и задает сменость. В данном случае граф должен быть представлен списком смежности."
   ]
  },
  {
   "cell_type": "code",
   "execution_count": null,
   "id": "4918c16b",
   "metadata": {},
   "outputs": [],
   "source": [
    "amount_v = int(input(\"Введите количества вершин: \"))\n",
    "A = []\n",
    "i = 0\n",
    "print(\"Разделитель - пробел \" \"\")\n",
    "while i < amount_v:\n",
    "    m_smej = list(map(int, input(f\"Введите смежные для {i + 1} вершины:\").split(' ')))\n",
    "    A.append(m_smej)\n",
    "    i += 1"
   ]
  },
  {
   "cell_type": "markdown",
   "id": "29d6be88",
   "metadata": {},
   "source": [
    "Возьмем за основу тот факт, что любой граф можно расскрасить с использованием 4 цветов.\n",
    "Создадим список, который будет хранить в себе спим=ски с вершинами, принадлежащими опреденленному цвету.\n",
    "Также создадим список использованых вершин, счетчик цветов и флаг, для проверки связей."
   ]
  },
  {
   "cell_type": "code",
   "execution_count": 8,
   "id": "df75b912",
   "metadata": {},
   "outputs": [],
   "source": [
    "first = []\n",
    "second= []\n",
    "third = []\n",
    "fourth = []\n",
    "used = []\n",
    "color = [first, second, third, fourth]\n",
    "ch_color = 0\n",
    "flag = 0"
   ]
  },
  {
   "cell_type": "markdown",
   "id": "c39940ff",
   "metadata": {},
   "source": [
    "Второй блок - вычислительный.\n",
    "Первый цикл менят \"цвет\", с которым мы работаем, второй - проходится повершинам, а третий - по связям вершин"
   ]
  },
  {
   "cell_type": "markdown",
   "id": "f493fdca",
   "metadata": {},
   "source": [
    "Вначали мы проверяем вершины еще нет в \"цвете\" или не была ли она уже использована.Если нет, то дальше рассматриваем связи."
   ]
  },
  {
   "cell_type": "markdown",
   "id": "c4d54dcd",
   "metadata": {},
   "source": [
    "Если вершина не имеет связь с вершиной, которая уже в \"цвете\" - устанавливаем флаг в единицу, в противном случае в ноль и завершаем проверку смежности"
   ]
  },
  {
   "cell_type": "markdown",
   "id": "7eb4e2e5",
   "metadata": {},
   "source": [
    "После проверки смежности, в зависимости от значения флага, добавляем вершину в \"цвет\" и список использованных."
   ]
  },
  {
   "cell_type": "code",
   "execution_count": 10,
   "id": "b02fa867",
   "metadata": {},
   "outputs": [],
   "source": [
    "for ch_color in range(4):\n",
    "  for i, v in enumerate(A):\n",
    "    flag = 0\n",
    "    if i + 1 not in used and i + 1 not in color[ch_color]:\n",
    "      for j in v:\n",
    "        if j not in color[ch_color]:\n",
    "          flag = 1\n",
    "        else:\n",
    "          flag = 0\n",
    "          break\n",
    "      if flag == 1:\n",
    "        color[ch_color].append(i + 1)\n",
    "        used.append(i + 1) "
   ]
  },
  {
   "cell_type": "markdown",
   "id": "acda2609",
   "metadata": {},
   "source": [
    "Завершающий блок - вывод результата"
   ]
  },
  {
   "cell_type": "code",
   "execution_count": 11,
   "id": "c4fcafbb",
   "metadata": {},
   "outputs": [
    {
     "name": "stdout",
     "output_type": "stream",
     "text": [
      "Вершины входящие в 1-й цвет: [1, 3, 7]\n",
      "Вершины входящие во 2-й цвет: [2, 6]\n",
      "Вершины входящие в 3-й цвет: [4, 8]\n",
      "Вершины входящие в 4-й цвет: [5, 9]\n"
     ]
    }
   ],
   "source": [
    "print(f\"Вершины входящие в 1-й цвет: {color[0]}\")\n",
    "print(f\"Вершины входящие во 2-й цвет: {color[1]}\")\n",
    "print(f\"Вершины входящие в 3-й цвет: {color[2]}\")\n",
    "print(f\"Вершины входящие в 4-й цвет: {color[3]}\")"
   ]
  }
 ],
 "metadata": {
  "kernelspec": {
   "display_name": "Python 3 (ipykernel)",
   "language": "python",
   "name": "python3"
  },
  "language_info": {
   "codemirror_mode": {
    "name": "ipython",
    "version": 3
   },
   "file_extension": ".py",
   "mimetype": "text/x-python",
   "name": "python",
   "nbconvert_exporter": "python",
   "pygments_lexer": "ipython3",
   "version": "3.9.13"
  }
 },
 "nbformat": 4,
 "nbformat_minor": 5
}
