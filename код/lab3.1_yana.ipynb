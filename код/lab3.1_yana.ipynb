{
 "cells": [
  {
   "cell_type": "markdown",
   "metadata": {
    "id": "2hHcKmu_iWSw"
   },
   "source": [
    "# Лабораторная работа 3.1"
   ]
  },
  {
   "cell_type": "markdown",
   "metadata": {
    "id": "M0mKacsjiWS7"
   },
   "source": [
    "## Счастливый билетик\n",
    "\n",
    "![](http://f2.mylove.ru/UNiHT7dRJ4.jpg)\n",
    "\n",
    "Билет считается счастливым, если выполнено следующее условие: сумма первых трёх цифр номера равна сумме последних трёх цифр.\n",
    "\n",
    "**Задание:**\n",
    "\n",
    "1) Определите число `ticket_number` — шестизначный номер билета;\n",
    "\n",
    "2) Напишите код, который по шестизначному номеру `ticket_number` билетика проверяет, является ли он счастливым;\n",
    "\n",
    "3) Если номер счастливый, выведите строку `Yes`, иначе — `No`.\n",
    "\n",
    "---\n",
    "\n",
    "**Пример 1:**\n",
    "\n",
    "*Input:* 123456\n",
    "\n",
    "*Output:* No\n",
    "\n",
    "\n",
    "**Пример 2:**\n",
    "\n",
    "*Input:* 123042\n",
    "\n",
    "*Output:* Yes"
   ]
  },
  {
   "cell_type": "code",
   "execution_count": 1,
   "metadata": {
    "colab": {
     "base_uri": "https://localhost:8080/"
    },
    "executionInfo": {
     "elapsed": 6893,
     "status": "ok",
     "timestamp": 1675667860412,
     "user": {
      "displayName": "Яна Халимендик",
      "userId": "15107969447804239653"
     },
     "user_tz": -180
    },
    "id": "9cXng_I_iWS_",
    "outputId": "e397390a-c3f4-4cae-a202-a7701709e992"
   },
   "outputs": [
    {
     "name": "stdout",
     "output_type": "stream",
     "text": [
      "Enter a number:567345\n",
      "No\n"
     ]
    }
   ],
   "source": [
    "ticket_number = int(input(\"Enter a number:\"))\n",
    "first3 = ticket_number // 1000\n",
    "last3 = ticket_number % 1000\n",
    "if (first3 // 100 + first3 // 10 % 10 + first3 % 10 == last3 // 100 + last3 // 10 % 10 + last3 % 10):\n",
    "  print(\"Yes\")\n",
    "else:\n",
    "  print(\"No\")"
   ]
  },
  {
   "cell_type": "markdown",
   "metadata": {
    "id": "sc52_Ut1iWTE"
   },
   "source": [
    "## Пароль\n",
    "\n",
    "![](http://forum.ixbt.com/post.cgi?id=attach:77:14138:1341:1)\n",
    "\n",
    "Пусть пароль может содержать только латинские буквы, знаки препинания и цифры.\n",
    "\n",
    "Пароль считается надёжным, если удовлетворяет следующим условиям:\n",
    "- содержит буквы в разных регистрах;\n",
    "- содержит цифры;\n",
    "- содержит не менее `4` уникальных символов;\n",
    "- не содержит ваше имя латинницей, записанное буквами любых регистров (anna, iVan, ...).\n",
    "\n",
    "Иначе пароль считается слабым.\n",
    "\n",
    "**Задание:**\n",
    "\n",
    "1) Определите строку `password` — придуманный вами пароль;\n",
    "\n",
    "2) Напишите код, который по паролю `password` проверяет, является ли он надёжным;\n",
    "\n",
    "3) Если пароль надёжный, выведите строку `strong`, иначе — `weak`.\n",
    "\n",
    "\n",
    "---\n",
    "\n",
    "Пусть имя пользоватея -- Андрей.\n",
    "\n",
    "**Пример 1:**\n",
    "\n",
    "*Input:* Aandrei123\n",
    "\n",
    "*Output:* weak\n",
    "\n",
    "\n",
    "**Пример 2:**\n",
    "\n",
    "*Input:* an12dRei\n",
    "\n",
    "*Output:* strong"
   ]
  },
  {
   "cell_type": "code",
   "execution_count": 85,
   "metadata": {
    "colab": {
     "base_uri": "https://localhost:8080/"
    },
    "executionInfo": {
     "elapsed": 10907,
     "status": "ok",
     "timestamp": 1675669507691,
     "user": {
      "displayName": "Яна Халимендик",
      "userId": "15107969447804239653"
     },
     "user_tz": -180
    },
    "id": "BjmSnhFyiWTH",
    "outputId": "5c4902f7-906b-4f19-8194-a3d9461aecc2"
   },
   "outputs": [
    {
     "name": "stdout",
     "output_type": "stream",
     "text": [
      "Enter a password: yhdvgYU74\n",
      "Enter a name: yana\n",
      "strong\n"
     ]
    }
   ],
   "source": [
    "password = input(\"Enter a password: \")\n",
    "name = input(\"Enter a name: \")\n",
    "if (password == password.upper() or password == password.lower() or password.isalpha() \n",
    "   or len(set(password)) < 4 or name.lower() in password.lower()):\n",
    "  print(\"weak\")\n",
    "else:\n",
    "  print(\"strong\")"
   ]
  },
  {
   "cell_type": "markdown",
   "metadata": {
    "id": "JHbmuArviWTL"
   },
   "source": [
    "## Числа Фибоначчи\n",
    "Как известно, [числа Фибоначчи](https://ru.wikipedia.org/wiki/%D0%A7%D0%B8%D1%81%D0%BB%D0%B0_%D0%A4%D0%B8%D0%B1%D0%BE%D0%BD%D0%B0%D1%87%D1%87%D0%B8) — это последовательность чисел, каждое из которых равно сумме двух предыдущих (первые два числа равны $1$):\n",
    "$$\n",
    "    1, 1, 2, 3, 5, 8, 13, \\ldots\n",
    "$$\n",
    "\n",
    "**Задание:**\n",
    "\n",
    "1) Определите число `amount` — количество чисел Фибоначчи, которые надо вывести;\n",
    "\n",
    "2) Напишите код, который выводит первые `amount` чисел Фибоначчи.\n",
    "\n",
    "---\n",
    "\n",
    "**Пример 1:**\n",
    "\n",
    "*Input:* 3\n",
    "\n",
    "*Output:* 1 1 2\n",
    "\n",
    "\n",
    "**Пример 2:**\n",
    "\n",
    "*Input:* 10\n",
    "\n",
    "*Output:* 1 1 2 3 5 8 13 21 34 55\n"
   ]
  },
  {
   "cell_type": "code",
   "execution_count": 6,
   "metadata": {
    "id": "mY80Z6UDiWTN"
   },
   "outputs": [
    {
     "name": "stdout",
     "output_type": "stream",
     "text": [
      "Enter a numbe: 6\n",
      "1\n",
      "1\n",
      "2\n",
      "3\n",
      "5\n",
      "8\n",
      "13\n"
     ]
    }
   ],
   "source": [
    "amount = int(input(\"Enter a numbe: \"))\n",
    "a, b = 0, 1\n",
    "print(b)\n",
    "for i in range(amount):\n",
    "    sum = a + b\n",
    "    a = b\n",
    "    b = sum\n",
    "    print(b)"
   ]
  },
  {
   "cell_type": "markdown",
   "metadata": {
    "id": "AynhVizoiWTR"
   },
   "source": [
    "## Время исследований\n",
    "\n",
    "![](https://2.bp.blogspot.com/-VOT5x12UqPY/WSh53tQ94HI/AAAAAAAAAMY/-nlcz28_Fj4UzJjbn4bBINKCnzwag1W4QCLcB/s1600/my-pic-widget.jpg)\n",
    "\n",
    "На сайте https://www.kaggle.com/ выберите любой набор данных в формате CSV и проведите для него маленькое исследование: загрузите данные из набора с использованием стандартного модуля `csv`, посмотрите средние значения и стандартные отклонения двух выбранных числовых атрибутов, найдите [методом наименьших квадратов](https://ru.wikipedia.org/wiki/%D0%9C%D0%B5%D1%82%D0%BE%D0%B4_%D0%BD%D0%B0%D0%B8%D0%BC%D0%B5%D0%BD%D1%8C%D1%88%D0%B8%D1%85_%D0%BA%D0%B2%D0%B0%D0%B4%D1%80%D0%B0%D1%82%D0%BE%D0%B2) уравнение линейной зависимости, связывающей один числовой атрибут с другим. Для оценки заданной зависимости найдите [коэффициент парной корреляции](https://ru.wikipedia.org/wiki/%D0%9A%D0%BE%D1%80%D1%80%D0%B5%D0%BB%D1%8F%D1%86%D0%B8%D1%8F), сделайте соответствующие выводы.\n",
    "\n",
    "**Результаты надо обязательно прокомментировать и пояснить!**\n",
    "\n",
    "---\n",
    "\n",
    "**Пример 1:**\n",
    "\n",
    "Пусть таблица `bikes.csv` содержит данные по арендам велосипедов за $2$ года:\n",
    "- `datetime`: дата и время аренды\n",
    "- `season`: время года\n",
    "- `temp`: температура воздуха по Цельсию\n",
    "- `windspeed`: скорость ветра \n",
    "- `registered`: число аренд\n",
    "\n",
    "Одно из направлений исследования могло бы заключаться в проверке зависимости суммарного числа аренд от температуры воздуха."
   ]
  },
  {
   "cell_type": "markdown",
   "metadata": {
    "id": "29tKs-OniWTU"
   },
   "source": [
    "Импорт библиотек:"
   ]
  },
  {
   "cell_type": "markdown",
   "metadata": {},
   "source": [
    "Чтение файла с данными и вывод столбцов:"
   ]
  },
  {
   "cell_type": "code",
   "execution_count": 66,
   "metadata": {},
   "outputs": [],
   "source": [
    "import csv\n",
    "from math import sqrt\n",
    "\n",
    "\n",
    "with open('avocado.csv', 'r', newline='') as csvf:\n",
    "    data = csv.reader(csvf, delimiter=',')\n",
    "    total_vol = []\n",
    "    total_bags = []\n",
    "    for row in data:\n",
    "        if row[3] == \"Total_Volume\":\n",
    "            continue\n",
    "        total_vol.append(float(row[3]))\n",
    "        total_bags.append(float(row[7]))"
   ]
  },
  {
   "cell_type": "markdown",
   "metadata": {},
   "source": [
    "Подсчитаем среднее значение в 2-х столбцах"
   ]
  },
  {
   "cell_type": "code",
   "execution_count": 67,
   "metadata": {},
   "outputs": [
    {
     "name": "stdout",
     "output_type": "stream",
     "text": [
      "Среднее значение Total_Volume 850644.0130089332\n",
      "Среднее значение Total_Bags : 239639.20205983953\n"
     ]
    }
   ],
   "source": [
    "vol = sum(total_vol) / len(total_vol)\n",
    "bag = sum(total_bags) / len(total_bags)\n",
    "print(f\"Среднее значение Total_Volume {vol}\")\n",
    "print(f\"Среднее значение Total_Bags : {bag}\")"
   ]
  },
  {
   "cell_type": "markdown",
   "metadata": {},
   "source": [
    "Подсчитаем стандартные отклонения двух выбранных числовых атрибутов:"
   ]
  },
  {
   "cell_type": "code",
   "execution_count": 74,
   "metadata": {},
   "outputs": [
    {
     "name": "stdout",
     "output_type": "stream",
     "text": [
      "2.176434493218307e+17\n",
      "18249\n",
      "Стандартное отклонение Total_Volume: 3453450.731237387\n",
      "Стандартное отклонение Total_Bags: 986215.3770258684\n"
     ]
    }
   ],
   "source": [
    "v1 = sum((el-vol)**2 for el in total_vol) / len(total_vol)\n",
    "st_v = sqrt(v1)\n",
    "v2 = sum((elem-bag)**2 for elem in total_bags) / len(total_bags)\n",
    "st_b = sqrt(v2)\n",
    "print(sum((el-vol)**2 for el in total_vol))\n",
    "print(len(total_vol))\n",
    "print(f\"Стандартное отклонение Total_Volume: {st_v}\")\n",
    "print(f\"Стандартное отклонение Total_Bags: {st_b}\")"
   ]
  },
  {
   "cell_type": "markdown",
   "metadata": {},
   "source": [
    "Проверила с помощью ддугой библиотеки"
   ]
  },
  {
   "cell_type": "code",
   "execution_count": 75,
   "metadata": {},
   "outputs": [
    {
     "name": "stderr",
     "output_type": "stream",
     "text": [
      "C:\\Users\\ynakh\\AppData\\Local\\Temp\\ipykernel_11696\\1959062251.py:4: FutureWarning: Dropping of nuisance columns in DataFrame reductions (with 'numeric_only=None') is deprecated; in a future version this will raise TypeError.  Select only valid columns before calling the reduction.\n",
      "  data.std()\n"
     ]
    },
    {
     "data": {
      "text/plain": [
       "Unnamed: 0      1.548104e+01\n",
       "AveragePrice    4.026766e-01\n",
       "Total_Volume    3.453545e+06\n",
       "4046            1.264989e+06\n",
       "4225            1.204120e+06\n",
       "4770            1.074641e+05\n",
       "Total_Bags      9.862424e+05\n",
       "Small_Bags      7.461785e+05\n",
       "Large_Bags      2.439660e+05\n",
       "XLarge_Bags     1.769289e+04\n",
       "year            9.399385e-01\n",
       "dtype: float64"
      ]
     },
     "execution_count": 75,
     "metadata": {},
     "output_type": "execute_result"
    }
   ],
   "source": [
    "import numpy as np \n",
    "import pandas as pd \n",
    "data = pd.read_csv('avocado.csv')\n",
    "data.std()"
   ]
  },
  {
   "cell_type": "markdown",
   "metadata": {},
   "source": [
    "Составим уравнение линейной зависимости"
   ]
  },
  {
   "cell_type": "code",
   "execution_count": 61,
   "metadata": {},
   "outputs": [
    {
     "name": "stdout",
     "output_type": "stream",
     "text": [
      "Уравнение линейной зависимости: y = 0.2750211065408285x + 784738.1744878748\n"
     ]
    }
   ],
   "source": [
    "sum_ab = 0\n",
    "sum_square = 0\n",
    "\n",
    "for i, el in enumerate(total_vol):\n",
    "    sum_ab += el * total_bags[i]\n",
    "    sum_square += el**2\n",
    "\n",
    "size = len(total_vol)\n",
    "k_lin = (size * sum_ab - sum(total_vol) * sum(total_bags))/(size * sum_square - sum(total_vol)**2)\n",
    "b_lin = vol - bag * k_lin\n",
    "func_val = []\n",
    "\n",
    "for el in total_vol:\n",
    "    func_val.append(k_lin * el + b_lin)\n",
    "\n",
    "print(f\"Уравнение линейной зависимости: y = {k_lin}x + {b_lin}\")"
   ]
  },
  {
   "cell_type": "markdown",
   "metadata": {},
   "source": [
    "Найдем коэффициент парной корреляции:"
   ]
  },
  {
   "cell_type": "code",
   "execution_count": 63,
   "metadata": {},
   "outputs": [
    {
     "name": "stdout",
     "output_type": "stream",
     "text": [
      "Коэффициент парной корреляции: 0.9630470824267295\n"
     ]
    }
   ],
   "source": [
    "cor_chisl = 0\n",
    "for i, el in enumerate(total_vol):\n",
    "    cor_chisl += (el - vol)*(total_bags[i] - bag)\n",
    "sqr_diff_vol = sum((el-vol)**2 for el in total_vol)\n",
    "sqr_diff_bag = sum((el-bag)**2 for el in total_bags)\n",
    "r_xy = cor_chisl / sqrt(sqr_diff_vol * sqr_diff_bag)\n",
    "print(f\"Коэффициент парной корреляции: {r_xy}\")"
   ]
  },
  {
   "cell_type": "markdown",
   "metadata": {},
   "source": [
    "Коэффициент парной корреляции ~ 0.96, что может говорить о неявной зависимости"
   ]
  }
 ],
 "metadata": {
  "anaconda-cloud": {},
  "colab": {
   "provenance": []
  },
  "kernelspec": {
   "display_name": "Python 3 (ipykernel)",
   "language": "python",
   "name": "python3"
  },
  "language_info": {
   "codemirror_mode": {
    "name": "ipython",
    "version": 3
   },
   "file_extension": ".py",
   "mimetype": "text/x-python",
   "name": "python",
   "nbconvert_exporter": "python",
   "pygments_lexer": "ipython3",
   "version": "3.9.13"
  }
 },
 "nbformat": 4,
 "nbformat_minor": 1
}
